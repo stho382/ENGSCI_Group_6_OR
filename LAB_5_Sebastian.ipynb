{
  "nbformat": 4,
  "nbformat_minor": 2,
  "metadata": {
    "colab": {
      "name": "LAB_5.ipynb",
      "provenance": [],
      "authorship_tag": "ABX9TyMGUhnVGrUvkldAhyUWU9vu",
      "include_colab_link": true
    },
    "kernelspec": {
      "name": "python3",
      "display_name": "Python 3.8.8 64-bit ('base': conda)"
    },
    "language_info": {
      "name": "python",
      "version": "3.8.8",
      "mimetype": "text/x-python",
      "codemirror_mode": {
        "name": "ipython",
        "version": 3
      },
      "pygments_lexer": "ipython3",
      "nbconvert_exporter": "python",
      "file_extension": ".py"
    },
    "interpreter": {
      "hash": "3f7aa7a55cb5b301dab3760096712c616198bbbd45d942f7207c731c310d900b"
    }
  },
  "cells": [
    {
      "cell_type": "markdown",
      "source": [
        "<a href=\"https://colab.research.google.com/github/stho382/ENGSCI_Group_6_OR/blob/main/LAB_5_Sebastian.ipynb\" target=\"_parent\"><img src=\"https://colab.research.google.com/assets/colab-badge.svg\" alt=\"Open In Colab\"/></a>"
      ],
      "metadata": {
        "id": "view-in-github",
        "colab_type": "text"
      }
    },
    {
      "cell_type": "code",
      "execution_count": 1,
      "source": [
        "!pip install pulp"
      ],
      "outputs": [
        {
          "output_type": "stream",
          "name": "stdout",
          "text": [
            "Requirement already satisfied: pulp in /Users/benjaminhall/opt/anaconda3/lib/python3.8/site-packages (2.5.1)\n"
          ]
        }
      ],
      "metadata": {
        "colab": {
          "base_uri": "https://localhost:8080/"
        },
        "id": "FNRw3_Z0vnlV",
        "outputId": "d7ce25a7-e29c-451b-d2dd-ac53d703d64a"
      }
    },
    {
      "cell_type": "code",
      "execution_count": 2,
      "source": [
        "import numpy as np\n",
        "import pandas as pd # We will discuss this more next week!\n",
        "from pulp import *"
      ],
      "outputs": [],
      "metadata": {
        "id": "6-c4bOJ1vrUK"
      }
    },
    {
      "cell_type": "code",
      "execution_count": 3,
      "source": [
        "# Pandas DataFrame construction\n",
        "# Take this as given until next Wednesday\n",
        "TieTypes = ['AllSilk', 'AllPoly', 'PolyCotton', 'SilkCotton']\n",
        "Profit = pd.Series([16.24, 8.22, 8.77, 8.66], index = TieTypes)\n",
        "Silk = pd.Series([0.125, 0, 0, 0.066], index = TieTypes)\n",
        "Polyester = pd.Series([0, 0.08, 0.05, 0], index = TieTypes)\n",
        "Cotton = pd.Series([0, 0, 0.05, 0.044], index = TieTypes)\n",
        "MinReq = pd.Series([5000, 10000, 13000, 5000], index = TieTypes)\n",
        "MaxDem = pd.Series([7000, 14000, 16000, 8500], index = TieTypes)\n",
        "\n",
        "TieData = pd.DataFrame({'Profit': Profit, \n",
        "                              'Silk': Silk, \n",
        "                              'Polyester': Polyester, \n",
        "                              'Cotton': Cotton, \n",
        "                              'MinReq': MinReq,\n",
        "                              'MaxDem': MaxDem})\n",
        "\n",
        "# View all items: TieData\n",
        "TieData\n"
      ],
      "outputs": [
        {
          "output_type": "execute_result",
          "data": {
            "text/html": [
              "<div>\n",
              "<style scoped>\n",
              "    .dataframe tbody tr th:only-of-type {\n",
              "        vertical-align: middle;\n",
              "    }\n",
              "\n",
              "    .dataframe tbody tr th {\n",
              "        vertical-align: top;\n",
              "    }\n",
              "\n",
              "    .dataframe thead th {\n",
              "        text-align: right;\n",
              "    }\n",
              "</style>\n",
              "<table border=\"1\" class=\"dataframe\">\n",
              "  <thead>\n",
              "    <tr style=\"text-align: right;\">\n",
              "      <th></th>\n",
              "      <th>Profit</th>\n",
              "      <th>Silk</th>\n",
              "      <th>Polyester</th>\n",
              "      <th>Cotton</th>\n",
              "      <th>MinReq</th>\n",
              "      <th>MaxDem</th>\n",
              "    </tr>\n",
              "  </thead>\n",
              "  <tbody>\n",
              "    <tr>\n",
              "      <th>AllSilk</th>\n",
              "      <td>16.24</td>\n",
              "      <td>0.125</td>\n",
              "      <td>0.00</td>\n",
              "      <td>0.000</td>\n",
              "      <td>5000</td>\n",
              "      <td>7000</td>\n",
              "    </tr>\n",
              "    <tr>\n",
              "      <th>AllPoly</th>\n",
              "      <td>8.22</td>\n",
              "      <td>0.000</td>\n",
              "      <td>0.08</td>\n",
              "      <td>0.000</td>\n",
              "      <td>10000</td>\n",
              "      <td>14000</td>\n",
              "    </tr>\n",
              "    <tr>\n",
              "      <th>PolyCotton</th>\n",
              "      <td>8.77</td>\n",
              "      <td>0.000</td>\n",
              "      <td>0.05</td>\n",
              "      <td>0.050</td>\n",
              "      <td>13000</td>\n",
              "      <td>16000</td>\n",
              "    </tr>\n",
              "    <tr>\n",
              "      <th>SilkCotton</th>\n",
              "      <td>8.66</td>\n",
              "      <td>0.066</td>\n",
              "      <td>0.00</td>\n",
              "      <td>0.044</td>\n",
              "      <td>5000</td>\n",
              "      <td>8500</td>\n",
              "    </tr>\n",
              "  </tbody>\n",
              "</table>\n",
              "</div>"
            ],
            "text/plain": [
              "            Profit   Silk  Polyester  Cotton  MinReq  MaxDem\n",
              "AllSilk      16.24  0.125       0.00   0.000    5000    7000\n",
              "AllPoly       8.22  0.000       0.08   0.000   10000   14000\n",
              "PolyCotton    8.77  0.000       0.05   0.050   13000   16000\n",
              "SilkCotton    8.66  0.066       0.00   0.044    5000    8500"
            ]
          },
          "metadata": {},
          "execution_count": 3
        }
      ],
      "metadata": {
        "colab": {
          "base_uri": "https://localhost:8080/",
          "height": 175
        },
        "id": "kbVQ3eABv1pL",
        "outputId": "f54bfcdc-0061-4959-94a5-06de047ae1c5"
      }
    },
    {
      "cell_type": "code",
      "execution_count": 4,
      "source": [
        "# Max Objective Function\n",
        "prob = pulp.LpProblem('Maximise_Objective', LpMaximize)"
      ],
      "outputs": [],
      "metadata": {
        "id": "dlrQfb3cTaSl"
      }
    },
    {
      "cell_type": "code",
      "execution_count": 5,
      "source": [
        "# Define Variables and store them in a dictionary\n",
        "TieType_vars = LpVariable.dicts('tie', TieTypes, 0)\n",
        "\n",
        "# Adding RHS constraints\n",
        "RHS = {'Silk': 1200, 'Polyester': 3000, 'Cotton': 1600}"
      ],
      "outputs": [],
      "metadata": {
        "id": "jGQH9msCBN5D"
      }
    },
    {
      "cell_type": "code",
      "execution_count": 6,
      "source": [
        "# Add objective\n",
        "prob += lpSum(TieData['Profit'][i] * TieType_vars.get(i) for i in TieTypes)"
      ],
      "outputs": [],
      "metadata": {
        "id": "uXt7g8arwc2w"
      }
    },
    {
      "cell_type": "code",
      "execution_count": 7,
      "source": [
        "# Add constraints\n",
        "for j in RHS.keys():\n",
        "  prob += lpSum(TieData[j][i] * TieType_vars.get(i) for i in TieTypes) <= RHS.get(j)"
      ],
      "outputs": [],
      "metadata": {
        "id": "uBEsWXgu4hEp"
      }
    },
    {
      "cell_type": "code",
      "execution_count": 8,
      "source": [
        "# Add min and max requirements\n",
        "for i in TieTypes:\n",
        "  prob += TieType_vars.get(i) >= TieData['MinReq'][i]\n",
        "  prob += TieType_vars.get(i) <= TieData['MaxDem'][i]"
      ],
      "outputs": [],
      "metadata": {
        "id": "VW_h4Rv35s_M"
      }
    },
    {
      "cell_type": "code",
      "execution_count": 9,
      "source": [
        "# Preview\n",
        "print(prob)"
      ],
      "outputs": [
        {
          "output_type": "stream",
          "name": "stdout",
          "text": [
            "Maximise_Objective:\n",
            "MAXIMIZE\n",
            "8.22*tie_AllPoly + 16.24*tie_AllSilk + 8.77*tie_PolyCotton + 8.66*tie_SilkCotton + 0.0\n",
            "SUBJECT TO\n",
            "_C1: 0.125 tie_AllSilk + 0.066 tie_SilkCotton <= 1200\n",
            "\n",
            "_C2: 0.08 tie_AllPoly + 0.05 tie_PolyCotton <= 3000\n",
            "\n",
            "_C3: 0.05 tie_PolyCotton + 0.044 tie_SilkCotton <= 1600\n",
            "\n",
            "_C4: tie_AllSilk >= 5000\n",
            "\n",
            "_C5: tie_AllSilk <= 7000\n",
            "\n",
            "_C6: tie_AllPoly >= 10000\n",
            "\n",
            "_C7: tie_AllPoly <= 14000\n",
            "\n",
            "_C8: tie_PolyCotton >= 13000\n",
            "\n",
            "_C9: tie_PolyCotton <= 16000\n",
            "\n",
            "_C10: tie_SilkCotton >= 5000\n",
            "\n",
            "_C11: tie_SilkCotton <= 8500\n",
            "\n",
            "VARIABLES\n",
            "tie_AllPoly Continuous\n",
            "tie_AllSilk Continuous\n",
            "tie_PolyCotton Continuous\n",
            "tie_SilkCotton Continuous\n",
            "\n"
          ]
        }
      ],
      "metadata": {
        "colab": {
          "base_uri": "https://localhost:8080/"
        },
        "id": "phiE_8ObVeAJ",
        "outputId": "b3674599-5a7a-425e-bd45-00100c0a0f54"
      }
    },
    {
      "cell_type": "code",
      "execution_count": 10,
      "source": [
        "# Solving routines - no need to modify\n",
        "prob.writeLP('Ties.lp')\n",
        "\n",
        "prob.solve()\n",
        "\n",
        "print(\"Sebastian Thomas, stho382 \\n\")\n",
        "\n",
        "# The optimised objective function valof Ingredients pue is printed to the screen    \n",
        "print(\"Total Profit from Ties = \", value(prob.objective))\n",
        "print(\"\\n\")\n",
        "\n",
        "# Each of the variables is printed with its resolved optimum value\n",
        "for v in prob.variables():\n",
        "    print(v.name, \"=\", v.varValue)"
      ],
      "outputs": [
        {
          "output_type": "stream",
          "name": "stdout",
          "text": [
            "Sebastian Thomas, stho382 \n",
            "\n",
            "Total Profit from Ties =  412028.88\n",
            "\n",
            "\n",
            "tie_AllPoly = 14000.0\n",
            "tie_AllSilk = 5112.0\n",
            "tie_PolyCotton = 16000.0\n",
            "tie_SilkCotton = 8500.0\n"
          ]
        }
      ],
      "metadata": {
        "colab": {
          "base_uri": "https://localhost:8080/"
        },
        "id": "TSauqg0SwnYx",
        "outputId": "59041565-16f9-4697-c480-0c7726d392d9"
      }
    },
    {
      "cell_type": "code",
      "execution_count": null,
      "source": [],
      "outputs": [],
      "metadata": {
        "id": "ny0QfgmSwy99"
      }
    }
  ]
}